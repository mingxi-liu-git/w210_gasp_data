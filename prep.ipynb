{
 "cells": [
  {
   "cell_type": "code",
   "execution_count": 1,
   "metadata": {},
   "outputs": [],
   "source": [
    "import pandas as pd"
   ]
  },
  {
   "cell_type": "code",
   "execution_count": 35,
   "metadata": {},
   "outputs": [],
   "source": [
    "df_all = pd.read_csv('all_labels/labels.csv',parse_dates=['datetime'])\n"
   ]
  },
  {
   "cell_type": "code",
   "execution_count": 36,
   "metadata": {},
   "outputs": [],
   "source": [
    "df_3=df_all[df_all['dataset_id']==3]"
   ]
  },
  {
   "cell_type": "markdown",
   "metadata": {},
   "source": [
    "Deal with dataset 1 and 2 first because they have duplicated photos"
   ]
  },
  {
   "cell_type": "code",
   "execution_count": 27,
   "metadata": {},
   "outputs": [],
   "source": [
    "df_1_2=df[df['dataset_id'].isin([1,2])]"
   ]
  },
  {
   "cell_type": "code",
   "execution_count": 3,
   "metadata": {},
   "outputs": [],
   "source": [
    "df_2=df[df['dataset_id']==2]"
   ]
  },
  {
   "cell_type": "code",
   "execution_count": 28,
   "metadata": {},
   "outputs": [
    {
     "data": {
      "text/plain": [
       "(458,)"
      ]
     },
     "execution_count": 28,
     "metadata": {},
     "output_type": "execute_result"
    }
   ],
   "source": [
    "grouped=df_1_2.groupby(['Location','datetime'])\n",
    "dedup_count=grouped['AQI_Class'].count()\n",
    "dedup_count.shape"
   ]
  },
  {
   "cell_type": "code",
   "execution_count": 41,
   "metadata": {},
   "outputs": [],
   "source": [
    "pd.concat([df_1_2.groupby(['datetime','Location']).first(),df_3]).to_csv('deduped_labels/all_sets.csv',index=False)"
   ]
  },
  {
   "cell_type": "code",
   "execution_count": 33,
   "metadata": {},
   "outputs": [
    {
     "data": {
      "text/html": [
       "<div>\n",
       "<style scoped>\n",
       "    .dataframe tbody tr th:only-of-type {\n",
       "        vertical-align: middle;\n",
       "    }\n",
       "\n",
       "    .dataframe tbody tr th {\n",
       "        vertical-align: top;\n",
       "    }\n",
       "\n",
       "    .dataframe thead th {\n",
       "        text-align: right;\n",
       "    }\n",
       "</style>\n",
       "<table border=\"1\" class=\"dataframe\">\n",
       "  <thead>\n",
       "    <tr style=\"text-align: right;\">\n",
       "      <th></th>\n",
       "      <th></th>\n",
       "      <th>Filename</th>\n",
       "      <th>AQI</th>\n",
       "      <th>PM2.5</th>\n",
       "      <th>PM10</th>\n",
       "      <th>O3</th>\n",
       "      <th>CO</th>\n",
       "      <th>SO2</th>\n",
       "      <th>NO2</th>\n",
       "      <th>AQI_Class</th>\n",
       "      <th>dataset_id</th>\n",
       "    </tr>\n",
       "    <tr>\n",
       "      <th>datetime</th>\n",
       "      <th>Location</th>\n",
       "      <th></th>\n",
       "      <th></th>\n",
       "      <th></th>\n",
       "      <th></th>\n",
       "      <th></th>\n",
       "      <th></th>\n",
       "      <th></th>\n",
       "      <th></th>\n",
       "      <th></th>\n",
       "      <th></th>\n",
       "    </tr>\n",
       "  </thead>\n",
       "  <tbody>\n",
       "    <tr>\n",
       "      <th>2017-09-21 15:00:00</th>\n",
       "      <th>Mirpur National Stadium</th>\n",
       "      <td>199.jpg</td>\n",
       "      <td>NaN</td>\n",
       "      <td>85.00</td>\n",
       "      <td>NaN</td>\n",
       "      <td>NaN</td>\n",
       "      <td>NaN</td>\n",
       "      <td>NaN</td>\n",
       "      <td>NaN</td>\n",
       "      <td>b_Moderate</td>\n",
       "      <td>2</td>\n",
       "    </tr>\n",
       "    <tr>\n",
       "      <th>2018-03-23 09:00:00</th>\n",
       "      <th>Hazrat Shahjalal International Airport, Dhaka</th>\n",
       "      <td>198.jpg</td>\n",
       "      <td>NaN</td>\n",
       "      <td>217.00</td>\n",
       "      <td>NaN</td>\n",
       "      <td>NaN</td>\n",
       "      <td>NaN</td>\n",
       "      <td>NaN</td>\n",
       "      <td>NaN</td>\n",
       "      <td>e_Very_Unhealthy</td>\n",
       "      <td>2</td>\n",
       "    </tr>\n",
       "    <tr>\n",
       "      <th>2018-06-17 18:00:00</th>\n",
       "      <th>Agargaon</th>\n",
       "      <td>222.jpg</td>\n",
       "      <td>NaN</td>\n",
       "      <td>140.00</td>\n",
       "      <td>NaN</td>\n",
       "      <td>NaN</td>\n",
       "      <td>NaN</td>\n",
       "      <td>NaN</td>\n",
       "      <td>NaN</td>\n",
       "      <td>c_Unhealthy_for_Sensitive_Groups</td>\n",
       "      <td>2</td>\n",
       "    </tr>\n",
       "    <tr>\n",
       "      <th>2018-06-18 12:00:00</th>\n",
       "      <th>Banani</th>\n",
       "      <td>197.jpg</td>\n",
       "      <td>NaN</td>\n",
       "      <td>128.00</td>\n",
       "      <td>NaN</td>\n",
       "      <td>NaN</td>\n",
       "      <td>NaN</td>\n",
       "      <td>NaN</td>\n",
       "      <td>NaN</td>\n",
       "      <td>c_Unhealthy_for_Sensitive_Groups</td>\n",
       "      <td>2</td>\n",
       "    </tr>\n",
       "    <tr>\n",
       "      <th>2018-08-07 18:00:00</th>\n",
       "      <th>Mohammadpur</th>\n",
       "      <td>220.jpg</td>\n",
       "      <td>NaN</td>\n",
       "      <td>72.00</td>\n",
       "      <td>NaN</td>\n",
       "      <td>NaN</td>\n",
       "      <td>NaN</td>\n",
       "      <td>NaN</td>\n",
       "      <td>NaN</td>\n",
       "      <td>b_Moderate</td>\n",
       "      <td>2</td>\n",
       "    </tr>\n",
       "    <tr>\n",
       "      <th>...</th>\n",
       "      <th>...</th>\n",
       "      <td>...</td>\n",
       "      <td>...</td>\n",
       "      <td>...</td>\n",
       "      <td>...</td>\n",
       "      <td>...</td>\n",
       "      <td>...</td>\n",
       "      <td>...</td>\n",
       "      <td>...</td>\n",
       "      <td>...</td>\n",
       "      <td>...</td>\n",
       "    </tr>\n",
       "    <tr>\n",
       "      <th>2023-03-13 08:30:00</th>\n",
       "      <th>Bengaluru</th>\n",
       "      <td>BENGR_Mod_2023-03-13-08.30-1-1.jpg</td>\n",
       "      <td>53.0</td>\n",
       "      <td>27.00</td>\n",
       "      <td>49.00</td>\n",
       "      <td>22.00</td>\n",
       "      <td>304.00</td>\n",
       "      <td>7.0</td>\n",
       "      <td>16.00</td>\n",
       "      <td>b_Moderate</td>\n",
       "      <td>1</td>\n",
       "    </tr>\n",
       "    <tr>\n",
       "      <th>2023-03-13 10:00:00</th>\n",
       "      <th>Mumbai</th>\n",
       "      <td>MH_UN_2023-03-13-10.00-1-1.jpg</td>\n",
       "      <td>197.0</td>\n",
       "      <td>114.00</td>\n",
       "      <td>108.00</td>\n",
       "      <td>NaN</td>\n",
       "      <td>NaN</td>\n",
       "      <td>NaN</td>\n",
       "      <td>64.00</td>\n",
       "      <td>d_Unhealthy</td>\n",
       "      <td>1</td>\n",
       "    </tr>\n",
       "    <tr>\n",
       "      <th>2023-03-16 12:30:00</th>\n",
       "      <th>Biratnagar, Nepal</th>\n",
       "      <td>BIR_UH_2023-03-16-12.30-1-1.jpg</td>\n",
       "      <td>154.0</td>\n",
       "      <td>65.89</td>\n",
       "      <td>95.23</td>\n",
       "      <td>78.31</td>\n",
       "      <td>0.36</td>\n",
       "      <td>3.5</td>\n",
       "      <td>1.03</td>\n",
       "      <td>d_Unhealthy</td>\n",
       "      <td>1</td>\n",
       "    </tr>\n",
       "    <tr>\n",
       "      <th>2023-03-17 08:30:00</th>\n",
       "      <th>Bengaluru</th>\n",
       "      <td>BENGR_Good_2023-03-17-08.30-1-1.jpg</td>\n",
       "      <td>15.0</td>\n",
       "      <td>4.00</td>\n",
       "      <td>7.00</td>\n",
       "      <td>37.00</td>\n",
       "      <td>288.00</td>\n",
       "      <td>10.0</td>\n",
       "      <td>10.00</td>\n",
       "      <td>a_Good</td>\n",
       "      <td>1</td>\n",
       "    </tr>\n",
       "    <tr>\n",
       "      <th>2023-03-21 15:00:00</th>\n",
       "      <th>Mumbai</th>\n",
       "      <td>MH_Mod_2023-03-21-15.00-1-1.jpg</td>\n",
       "      <td>92.0</td>\n",
       "      <td>27.00</td>\n",
       "      <td>72.00</td>\n",
       "      <td>81.00</td>\n",
       "      <td>9.00</td>\n",
       "      <td>9.0</td>\n",
       "      <td>20.00</td>\n",
       "      <td>b_Moderate</td>\n",
       "      <td>1</td>\n",
       "    </tr>\n",
       "  </tbody>\n",
       "</table>\n",
       "<p>458 rows × 10 columns</p>\n",
       "</div>"
      ],
      "text/plain": [
       "                                                                                              Filename  \\\n",
       "datetime            Location                                                                             \n",
       "2017-09-21 15:00:00 Mirpur National Stadium                                                    199.jpg   \n",
       "2018-03-23 09:00:00 Hazrat Shahjalal International Airport, Dhaka                              198.jpg   \n",
       "2018-06-17 18:00:00 Agargaon                                                                   222.jpg   \n",
       "2018-06-18 12:00:00 Banani                                                                     197.jpg   \n",
       "2018-08-07 18:00:00 Mohammadpur                                                                220.jpg   \n",
       "...                                                                                                ...   \n",
       "2023-03-13 08:30:00 Bengaluru                                       BENGR_Mod_2023-03-13-08.30-1-1.jpg   \n",
       "2023-03-13 10:00:00 Mumbai                                              MH_UN_2023-03-13-10.00-1-1.jpg   \n",
       "2023-03-16 12:30:00 Biratnagar, Nepal                                  BIR_UH_2023-03-16-12.30-1-1.jpg   \n",
       "2023-03-17 08:30:00 Bengaluru                                      BENGR_Good_2023-03-17-08.30-1-1.jpg   \n",
       "2023-03-21 15:00:00 Mumbai                                             MH_Mod_2023-03-21-15.00-1-1.jpg   \n",
       "\n",
       "                                                                     AQI  \\\n",
       "datetime            Location                                               \n",
       "2017-09-21 15:00:00 Mirpur National Stadium                          NaN   \n",
       "2018-03-23 09:00:00 Hazrat Shahjalal International Airport, Dhaka    NaN   \n",
       "2018-06-17 18:00:00 Agargaon                                         NaN   \n",
       "2018-06-18 12:00:00 Banani                                           NaN   \n",
       "2018-08-07 18:00:00 Mohammadpur                                      NaN   \n",
       "...                                                                  ...   \n",
       "2023-03-13 08:30:00 Bengaluru                                       53.0   \n",
       "2023-03-13 10:00:00 Mumbai                                         197.0   \n",
       "2023-03-16 12:30:00 Biratnagar, Nepal                              154.0   \n",
       "2023-03-17 08:30:00 Bengaluru                                       15.0   \n",
       "2023-03-21 15:00:00 Mumbai                                          92.0   \n",
       "\n",
       "                                                                    PM2.5  \\\n",
       "datetime            Location                                                \n",
       "2017-09-21 15:00:00 Mirpur National Stadium                         85.00   \n",
       "2018-03-23 09:00:00 Hazrat Shahjalal International Airport, Dhaka  217.00   \n",
       "2018-06-17 18:00:00 Agargaon                                       140.00   \n",
       "2018-06-18 12:00:00 Banani                                         128.00   \n",
       "2018-08-07 18:00:00 Mohammadpur                                     72.00   \n",
       "...                                                                   ...   \n",
       "2023-03-13 08:30:00 Bengaluru                                       27.00   \n",
       "2023-03-13 10:00:00 Mumbai                                         114.00   \n",
       "2023-03-16 12:30:00 Biratnagar, Nepal                               65.89   \n",
       "2023-03-17 08:30:00 Bengaluru                                        4.00   \n",
       "2023-03-21 15:00:00 Mumbai                                          27.00   \n",
       "\n",
       "                                                                     PM10  \\\n",
       "datetime            Location                                                \n",
       "2017-09-21 15:00:00 Mirpur National Stadium                           NaN   \n",
       "2018-03-23 09:00:00 Hazrat Shahjalal International Airport, Dhaka     NaN   \n",
       "2018-06-17 18:00:00 Agargaon                                          NaN   \n",
       "2018-06-18 12:00:00 Banani                                            NaN   \n",
       "2018-08-07 18:00:00 Mohammadpur                                       NaN   \n",
       "...                                                                   ...   \n",
       "2023-03-13 08:30:00 Bengaluru                                       49.00   \n",
       "2023-03-13 10:00:00 Mumbai                                         108.00   \n",
       "2023-03-16 12:30:00 Biratnagar, Nepal                               95.23   \n",
       "2023-03-17 08:30:00 Bengaluru                                        7.00   \n",
       "2023-03-21 15:00:00 Mumbai                                          72.00   \n",
       "\n",
       "                                                                      O3  \\\n",
       "datetime            Location                                               \n",
       "2017-09-21 15:00:00 Mirpur National Stadium                          NaN   \n",
       "2018-03-23 09:00:00 Hazrat Shahjalal International Airport, Dhaka    NaN   \n",
       "2018-06-17 18:00:00 Agargaon                                         NaN   \n",
       "2018-06-18 12:00:00 Banani                                           NaN   \n",
       "2018-08-07 18:00:00 Mohammadpur                                      NaN   \n",
       "...                                                                  ...   \n",
       "2023-03-13 08:30:00 Bengaluru                                      22.00   \n",
       "2023-03-13 10:00:00 Mumbai                                           NaN   \n",
       "2023-03-16 12:30:00 Biratnagar, Nepal                              78.31   \n",
       "2023-03-17 08:30:00 Bengaluru                                      37.00   \n",
       "2023-03-21 15:00:00 Mumbai                                         81.00   \n",
       "\n",
       "                                                                       CO  \\\n",
       "datetime            Location                                                \n",
       "2017-09-21 15:00:00 Mirpur National Stadium                           NaN   \n",
       "2018-03-23 09:00:00 Hazrat Shahjalal International Airport, Dhaka     NaN   \n",
       "2018-06-17 18:00:00 Agargaon                                          NaN   \n",
       "2018-06-18 12:00:00 Banani                                            NaN   \n",
       "2018-08-07 18:00:00 Mohammadpur                                       NaN   \n",
       "...                                                                   ...   \n",
       "2023-03-13 08:30:00 Bengaluru                                      304.00   \n",
       "2023-03-13 10:00:00 Mumbai                                            NaN   \n",
       "2023-03-16 12:30:00 Biratnagar, Nepal                                0.36   \n",
       "2023-03-17 08:30:00 Bengaluru                                      288.00   \n",
       "2023-03-21 15:00:00 Mumbai                                           9.00   \n",
       "\n",
       "                                                                    SO2  \\\n",
       "datetime            Location                                              \n",
       "2017-09-21 15:00:00 Mirpur National Stadium                         NaN   \n",
       "2018-03-23 09:00:00 Hazrat Shahjalal International Airport, Dhaka   NaN   \n",
       "2018-06-17 18:00:00 Agargaon                                        NaN   \n",
       "2018-06-18 12:00:00 Banani                                          NaN   \n",
       "2018-08-07 18:00:00 Mohammadpur                                     NaN   \n",
       "...                                                                 ...   \n",
       "2023-03-13 08:30:00 Bengaluru                                       7.0   \n",
       "2023-03-13 10:00:00 Mumbai                                          NaN   \n",
       "2023-03-16 12:30:00 Biratnagar, Nepal                               3.5   \n",
       "2023-03-17 08:30:00 Bengaluru                                      10.0   \n",
       "2023-03-21 15:00:00 Mumbai                                          9.0   \n",
       "\n",
       "                                                                     NO2  \\\n",
       "datetime            Location                                               \n",
       "2017-09-21 15:00:00 Mirpur National Stadium                          NaN   \n",
       "2018-03-23 09:00:00 Hazrat Shahjalal International Airport, Dhaka    NaN   \n",
       "2018-06-17 18:00:00 Agargaon                                         NaN   \n",
       "2018-06-18 12:00:00 Banani                                           NaN   \n",
       "2018-08-07 18:00:00 Mohammadpur                                      NaN   \n",
       "...                                                                  ...   \n",
       "2023-03-13 08:30:00 Bengaluru                                      16.00   \n",
       "2023-03-13 10:00:00 Mumbai                                         64.00   \n",
       "2023-03-16 12:30:00 Biratnagar, Nepal                               1.03   \n",
       "2023-03-17 08:30:00 Bengaluru                                      10.00   \n",
       "2023-03-21 15:00:00 Mumbai                                         20.00   \n",
       "\n",
       "                                                                                          AQI_Class  \\\n",
       "datetime            Location                                                                          \n",
       "2017-09-21 15:00:00 Mirpur National Stadium                                              b_Moderate   \n",
       "2018-03-23 09:00:00 Hazrat Shahjalal International Airport, Dhaka                  e_Very_Unhealthy   \n",
       "2018-06-17 18:00:00 Agargaon                                       c_Unhealthy_for_Sensitive_Groups   \n",
       "2018-06-18 12:00:00 Banani                                         c_Unhealthy_for_Sensitive_Groups   \n",
       "2018-08-07 18:00:00 Mohammadpur                                                          b_Moderate   \n",
       "...                                                                                             ...   \n",
       "2023-03-13 08:30:00 Bengaluru                                                            b_Moderate   \n",
       "2023-03-13 10:00:00 Mumbai                                                              d_Unhealthy   \n",
       "2023-03-16 12:30:00 Biratnagar, Nepal                                                   d_Unhealthy   \n",
       "2023-03-17 08:30:00 Bengaluru                                                                a_Good   \n",
       "2023-03-21 15:00:00 Mumbai                                                               b_Moderate   \n",
       "\n",
       "                                                                   dataset_id  \n",
       "datetime            Location                                                   \n",
       "2017-09-21 15:00:00 Mirpur National Stadium                                 2  \n",
       "2018-03-23 09:00:00 Hazrat Shahjalal International Airport, Dhaka           2  \n",
       "2018-06-17 18:00:00 Agargaon                                                2  \n",
       "2018-06-18 12:00:00 Banani                                                  2  \n",
       "2018-08-07 18:00:00 Mohammadpur                                             2  \n",
       "...                                                                       ...  \n",
       "2023-03-13 08:30:00 Bengaluru                                               1  \n",
       "2023-03-13 10:00:00 Mumbai                                                  1  \n",
       "2023-03-16 12:30:00 Biratnagar, Nepal                                       1  \n",
       "2023-03-17 08:30:00 Bengaluru                                               1  \n",
       "2023-03-21 15:00:00 Mumbai                                                  1  \n",
       "\n",
       "[458 rows x 10 columns]"
      ]
     },
     "execution_count": 33,
     "metadata": {},
     "output_type": "execute_result"
    }
   ],
   "source": [
    "df_1_2.groupby(['datetime','Location']).first().to_csv('')"
   ]
  },
  {
   "cell_type": "code",
   "execution_count": 4,
   "metadata": {},
   "outputs": [
    {
     "data": {
      "text/plain": [
       "(406,)"
      ]
     },
     "execution_count": 4,
     "metadata": {},
     "output_type": "execute_result"
    }
   ],
   "source": [
    "grouped=df_2.groupby(['Location','datetime'])\n",
    "dedup_count=grouped['AQI_Class'].count()\n",
    "dedup_count.shape"
   ]
  },
  {
   "cell_type": "code",
   "execution_count": 5,
   "metadata": {},
   "outputs": [
    {
     "name": "stdout",
     "output_type": "stream",
     "text": [
      "1122 397 293\n"
     ]
    }
   ],
   "source": [
    "dedup_count=dedup_count.sample(frac=1, random_state=3)\n",
    "n=len(dedup_count)\n",
    "train_group=dedup_count[:int(0.6*n)]\n",
    "val_group=dedup_count[int(0.6*n):int(0.8*n)]\n",
    "test_group=dedup_count[int(0.8*n):]\n",
    "print(train_group.sum(),val_group.sum(),test_group.sum())"
   ]
  },
  {
   "cell_type": "code",
   "execution_count": 6,
   "metadata": {},
   "outputs": [],
   "source": [
    "def label_for_group(group):\n",
    "  data=[]\n",
    "  for i in group.index:\n",
    "    Location,dt=i\n",
    "    data.append(df.loc[(df['Location']==Location)&(df['datetime']==dt)])\n",
    "  return pd.concat(data)"
   ]
  },
  {
   "cell_type": "code",
   "execution_count": 7,
   "metadata": {},
   "outputs": [],
   "source": [
    "train_label=label_for_group(train_group)\n",
    "val_label=label_for_group(val_group)\n",
    "test_label=label_for_group(test_group)"
   ]
  },
  {
   "cell_type": "markdown",
   "metadata": {},
   "source": [
    "Add dataset 3"
   ]
  },
  {
   "cell_type": "code",
   "execution_count": 45,
   "metadata": {},
   "outputs": [],
   "source": [
    "df3=df[df['dataset_id']==3].sample(frac=1, random_state=3)"
   ]
  },
  {
   "cell_type": "code",
   "execution_count": 46,
   "metadata": {},
   "outputs": [],
   "source": [
    "n3=len(df3)"
   ]
  },
  {
   "cell_type": "code",
   "execution_count": 47,
   "metadata": {},
   "outputs": [],
   "source": [
    "train_label=pd.concat([train_label,df3[:int(n3*0.6)]])\n",
    "val_label=pd.concat([val_label,df3[int(n3*0.6):int(n3*0.8)]])\n",
    "test_label=pd.concat([test_label,df3[int(n3*0.8):]])"
   ]
  },
  {
   "cell_type": "code",
   "execution_count": 11,
   "metadata": {},
   "outputs": [
    {
     "data": {
      "text/plain": [
       "(1122, 12)"
      ]
     },
     "execution_count": 11,
     "metadata": {},
     "output_type": "execute_result"
    }
   ],
   "source": [
    "train_label.shape"
   ]
  },
  {
   "cell_type": "code",
   "execution_count": 12,
   "metadata": {},
   "outputs": [
    {
     "data": {
      "text/plain": [
       "(397, 12)"
      ]
     },
     "execution_count": 12,
     "metadata": {},
     "output_type": "execute_result"
    }
   ],
   "source": [
    "val_label.shape"
   ]
  },
  {
   "cell_type": "code",
   "execution_count": 48,
   "metadata": {},
   "outputs": [
    {
     "data": {
      "text/plain": [
       "(3323, 12)"
      ]
     },
     "execution_count": 48,
     "metadata": {},
     "output_type": "execute_result"
    }
   ],
   "source": [
    "test_label.shape"
   ]
  },
  {
   "cell_type": "code",
   "execution_count": 15,
   "metadata": {},
   "outputs": [],
   "source": [
    "train_label.to_csv('train_label_dataset2.csv',index=False)\n",
    "val_label.to_csv('val_label_dataset2.csv',index=False)\n",
    "test_label.to_csv('test_label_dataset2.csv',index=False)"
   ]
  },
  {
   "cell_type": "code",
   "execution_count": 17,
   "metadata": {},
   "outputs": [],
   "source": [
    "def balanced_sample(label_df,each_class_num):\n",
    "    return pd.concat([label_df[label_df['AQI_Class']==i].sample(each_class_num,replace=True,random_state=3) for i in ['a_Good', 'b_Moderate', 'c_Unhealthy_for_Sensitive_Groups',\n",
    "       'd_Unhealthy', 'e_Very_Unhealthy', 'f_Severe']]).sample(frac=1,random_state=3)"
   ]
  },
  {
   "cell_type": "code",
   "execution_count": null,
   "metadata": {},
   "outputs": [],
   "source": []
  },
  {
   "cell_type": "code",
   "execution_count": 57,
   "metadata": {},
   "outputs": [
    {
     "data": {
      "text/plain": [
       "Index(['a_Good', 'b_Moderate', 'c_Unhealthy_for_Sensitive_Groups',\n",
       "       'd_Unhealthy', 'e_Very_Unhealthy', 'f_Severe'],\n",
       "      dtype='object')"
      ]
     },
     "execution_count": 57,
     "metadata": {},
     "output_type": "execute_result"
    }
   ],
   "source": [
    "train_label['AQI_Class'].value_counts().sort_index().index"
   ]
  },
  {
   "cell_type": "code",
   "execution_count": 8,
   "metadata": {},
   "outputs": [
    {
     "data": {
      "text/plain": [
       "<AxesSubplot: title={'center': 'Counts of each class on training set'}>"
      ]
     },
     "execution_count": 8,
     "metadata": {},
     "output_type": "execute_result"
    },
    {
     "data": {
      "image/png": "[encoded data removed]",
      "text/plain": [
       "<Figure size 640x480 with 1 Axes>"
      ]
     },
     "metadata": {},
     "output_type": "display_data"
    }
   ],
   "source": [
    "train_label['AQI_Class'].value_counts().sort_index().plot.barh(title='Counts of each class on training set')"
   ]
  },
  {
   "cell_type": "code",
   "execution_count": 13,
   "metadata": {},
   "outputs": [
    {
     "data": {
      "text/plain": [
       "<AxesSubplot: title={'center': 'Counts of each class on training set'}>"
      ]
     },
     "execution_count": 13,
     "metadata": {},
     "output_type": "execute_result"
    },
    {
     "data": {
      "image/png": "[encoded data removed]",
      "text/plain": [
       "<Figure size 640x480 with 1 Axes>"
      ]
     },
     "metadata": {},
     "output_type": "display_data"
    }
   ],
   "source": [
    "val_label['AQI_Class'].value_counts().sort_index().plot.barh(title='Counts of each class on training set')"
   ]
  },
  {
   "cell_type": "code",
   "execution_count": 10,
   "metadata": {},
   "outputs": [
    {
     "data": {
      "text/plain": [
       "169.0"
      ]
     },
     "execution_count": 10,
     "metadata": {},
     "output_type": "execute_result"
    }
   ],
   "source": [
    "train_label['AQI_Class'].value_counts().median()"
   ]
  },
  {
   "cell_type": "code",
   "execution_count": 14,
   "metadata": {},
   "outputs": [
    {
     "data": {
      "text/plain": [
       "80.5"
      ]
     },
     "execution_count": 14,
     "metadata": {},
     "output_type": "execute_result"
    }
   ],
   "source": [
    "val_label['AQI_Class'].value_counts().median()"
   ]
  },
  {
   "cell_type": "code",
   "execution_count": 18,
   "metadata": {},
   "outputs": [
    {
     "ename": "ValueError",
     "evalue": "a must be greater than 0 unless no samples are taken",
     "output_type": "error",
     "traceback": [
      "\u001b[0;31m---------------------------------------------------------------------------\u001b[0m",
      "\u001b[0;31mValueError\u001b[0m                                Traceback (most recent call last)",
      "Cell \u001b[0;32mIn[18], line 2\u001b[0m\n\u001b[1;32m      1\u001b[0m train_label_balanced\u001b[38;5;241m=\u001b[39mbalanced_sample(train_label,\u001b[38;5;241m200\u001b[39m)\n\u001b[0;32m----> 2\u001b[0m val_label_balanced\u001b[38;5;241m=\u001b[39m\u001b[43mbalanced_sample\u001b[49m\u001b[43m(\u001b[49m\u001b[43mval_label\u001b[49m\u001b[43m,\u001b[49m\u001b[38;5;241;43m80\u001b[39;49m\u001b[43m)\u001b[49m\n",
      "Cell \u001b[0;32mIn[17], line 2\u001b[0m, in \u001b[0;36mbalanced_sample\u001b[0;34m(label_df, each_class_num)\u001b[0m\n\u001b[1;32m      1\u001b[0m \u001b[38;5;28;01mdef\u001b[39;00m \u001b[38;5;21mbalanced_sample\u001b[39m(label_df,each_class_num):\n\u001b[0;32m----> 2\u001b[0m     \u001b[38;5;28;01mreturn\u001b[39;00m pd\u001b[38;5;241m.\u001b[39mconcat([label_df[label_df[\u001b[38;5;124m'\u001b[39m\u001b[38;5;124mAQI_Class\u001b[39m\u001b[38;5;124m'\u001b[39m]\u001b[38;5;241m==\u001b[39mi]\u001b[38;5;241m.\u001b[39msample(each_class_num,replace\u001b[38;5;241m=\u001b[39m\u001b[38;5;28;01mTrue\u001b[39;00m,random_state\u001b[38;5;241m=\u001b[39m\u001b[38;5;241m3\u001b[39m) \u001b[38;5;28;01mfor\u001b[39;00m i \u001b[38;5;129;01min\u001b[39;00m [\u001b[38;5;124m'\u001b[39m\u001b[38;5;124ma_Good\u001b[39m\u001b[38;5;124m'\u001b[39m, \u001b[38;5;124m'\u001b[39m\u001b[38;5;124mb_Moderate\u001b[39m\u001b[38;5;124m'\u001b[39m, \u001b[38;5;124m'\u001b[39m\u001b[38;5;124mc_Unhealthy_for_Sensitive_Groups\u001b[39m\u001b[38;5;124m'\u001b[39m,\n\u001b[1;32m      3\u001b[0m        \u001b[38;5;124m'\u001b[39m\u001b[38;5;124md_Unhealthy\u001b[39m\u001b[38;5;124m'\u001b[39m, \u001b[38;5;124m'\u001b[39m\u001b[38;5;124me_Very_Unhealthy\u001b[39m\u001b[38;5;124m'\u001b[39m, \u001b[38;5;124m'\u001b[39m\u001b[38;5;124mf_Severe\u001b[39m\u001b[38;5;124m'\u001b[39m]])\u001b[38;5;241m.\u001b[39msample(frac\u001b[38;5;241m=\u001b[39m\u001b[38;5;241m1\u001b[39m,random_state\u001b[38;5;241m=\u001b[39m\u001b[38;5;241m3\u001b[39m)\n",
      "Cell \u001b[0;32mIn[17], line 2\u001b[0m, in \u001b[0;36m<listcomp>\u001b[0;34m(.0)\u001b[0m\n\u001b[1;32m      1\u001b[0m \u001b[38;5;28;01mdef\u001b[39;00m \u001b[38;5;21mbalanced_sample\u001b[39m(label_df,each_class_num):\n\u001b[0;32m----> 2\u001b[0m     \u001b[38;5;28;01mreturn\u001b[39;00m pd\u001b[38;5;241m.\u001b[39mconcat([\u001b[43mlabel_df\u001b[49m\u001b[43m[\u001b[49m\u001b[43mlabel_df\u001b[49m\u001b[43m[\u001b[49m\u001b[38;5;124;43m'\u001b[39;49m\u001b[38;5;124;43mAQI_Class\u001b[39;49m\u001b[38;5;124;43m'\u001b[39;49m\u001b[43m]\u001b[49m\u001b[38;5;241;43m==\u001b[39;49m\u001b[43mi\u001b[49m\u001b[43m]\u001b[49m\u001b[38;5;241;43m.\u001b[39;49m\u001b[43msample\u001b[49m\u001b[43m(\u001b[49m\u001b[43meach_class_num\u001b[49m\u001b[43m,\u001b[49m\u001b[43mreplace\u001b[49m\u001b[38;5;241;43m=\u001b[39;49m\u001b[38;5;28;43;01mTrue\u001b[39;49;00m\u001b[43m,\u001b[49m\u001b[43mrandom_state\u001b[49m\u001b[38;5;241;43m=\u001b[39;49m\u001b[38;5;241;43m3\u001b[39;49m\u001b[43m)\u001b[49m \u001b[38;5;28;01mfor\u001b[39;00m i \u001b[38;5;129;01min\u001b[39;00m [\u001b[38;5;124m'\u001b[39m\u001b[38;5;124ma_Good\u001b[39m\u001b[38;5;124m'\u001b[39m, \u001b[38;5;124m'\u001b[39m\u001b[38;5;124mb_Moderate\u001b[39m\u001b[38;5;124m'\u001b[39m, \u001b[38;5;124m'\u001b[39m\u001b[38;5;124mc_Unhealthy_for_Sensitive_Groups\u001b[39m\u001b[38;5;124m'\u001b[39m,\n\u001b[1;32m      3\u001b[0m        \u001b[38;5;124m'\u001b[39m\u001b[38;5;124md_Unhealthy\u001b[39m\u001b[38;5;124m'\u001b[39m, \u001b[38;5;124m'\u001b[39m\u001b[38;5;124me_Very_Unhealthy\u001b[39m\u001b[38;5;124m'\u001b[39m, \u001b[38;5;124m'\u001b[39m\u001b[38;5;124mf_Severe\u001b[39m\u001b[38;5;124m'\u001b[39m]])\u001b[38;5;241m.\u001b[39msample(frac\u001b[38;5;241m=\u001b[39m\u001b[38;5;241m1\u001b[39m,random_state\u001b[38;5;241m=\u001b[39m\u001b[38;5;241m3\u001b[39m)\n",
      "File \u001b[0;32m~/opt/anaconda3/envs/tf/lib/python3.9/site-packages/pandas/core/generic.py:5773\u001b[0m, in \u001b[0;36mNDFrame.sample\u001b[0;34m(self, n, frac, replace, weights, random_state, axis, ignore_index)\u001b[0m\n\u001b[1;32m   5770\u001b[0m \u001b[38;5;28;01mif\u001b[39;00m weights \u001b[38;5;129;01mis\u001b[39;00m \u001b[38;5;129;01mnot\u001b[39;00m \u001b[38;5;28;01mNone\u001b[39;00m:\n\u001b[1;32m   5771\u001b[0m     weights \u001b[38;5;241m=\u001b[39m sample\u001b[38;5;241m.\u001b[39mpreprocess_weights(\u001b[38;5;28mself\u001b[39m, weights, axis)\n\u001b[0;32m-> 5773\u001b[0m sampled_indices \u001b[38;5;241m=\u001b[39m \u001b[43msample\u001b[49m\u001b[38;5;241;43m.\u001b[39;49m\u001b[43msample\u001b[49m\u001b[43m(\u001b[49m\u001b[43mobj_len\u001b[49m\u001b[43m,\u001b[49m\u001b[43m \u001b[49m\u001b[43msize\u001b[49m\u001b[43m,\u001b[49m\u001b[43m \u001b[49m\u001b[43mreplace\u001b[49m\u001b[43m,\u001b[49m\u001b[43m \u001b[49m\u001b[43mweights\u001b[49m\u001b[43m,\u001b[49m\u001b[43m \u001b[49m\u001b[43mrs\u001b[49m\u001b[43m)\u001b[49m\n\u001b[1;32m   5774\u001b[0m result \u001b[38;5;241m=\u001b[39m \u001b[38;5;28mself\u001b[39m\u001b[38;5;241m.\u001b[39mtake(sampled_indices, axis\u001b[38;5;241m=\u001b[39maxis)\n\u001b[1;32m   5776\u001b[0m \u001b[38;5;28;01mif\u001b[39;00m ignore_index:\n",
      "File \u001b[0;32m~/opt/anaconda3/envs/tf/lib/python3.9/site-packages/pandas/core/sample.py:150\u001b[0m, in \u001b[0;36msample\u001b[0;34m(obj_len, size, replace, weights, random_state)\u001b[0m\n\u001b[1;32m    147\u001b[0m     \u001b[38;5;28;01melse\u001b[39;00m:\n\u001b[1;32m    148\u001b[0m         \u001b[38;5;28;01mraise\u001b[39;00m \u001b[38;5;167;01mValueError\u001b[39;00m(\u001b[38;5;124m\"\u001b[39m\u001b[38;5;124mInvalid weights: weights sum to zero\u001b[39m\u001b[38;5;124m\"\u001b[39m)\n\u001b[0;32m--> 150\u001b[0m \u001b[38;5;28;01mreturn\u001b[39;00m \u001b[43mrandom_state\u001b[49m\u001b[38;5;241;43m.\u001b[39;49m\u001b[43mchoice\u001b[49m\u001b[43m(\u001b[49m\u001b[43mobj_len\u001b[49m\u001b[43m,\u001b[49m\u001b[43m \u001b[49m\u001b[43msize\u001b[49m\u001b[38;5;241;43m=\u001b[39;49m\u001b[43msize\u001b[49m\u001b[43m,\u001b[49m\u001b[43m \u001b[49m\u001b[43mreplace\u001b[49m\u001b[38;5;241;43m=\u001b[39;49m\u001b[43mreplace\u001b[49m\u001b[43m,\u001b[49m\u001b[43m \u001b[49m\u001b[43mp\u001b[49m\u001b[38;5;241;43m=\u001b[39;49m\u001b[43mweights\u001b[49m\u001b[43m)\u001b[49m\u001b[38;5;241m.\u001b[39mastype(\n\u001b[1;32m    151\u001b[0m     np\u001b[38;5;241m.\u001b[39mintp, copy\u001b[38;5;241m=\u001b[39m\u001b[38;5;28;01mFalse\u001b[39;00m\n\u001b[1;32m    152\u001b[0m )\n",
      "File \u001b[0;32mmtrand.pyx:909\u001b[0m, in \u001b[0;36mnumpy.random.mtrand.RandomState.choice\u001b[0;34m()\u001b[0m\n",
      "\u001b[0;31mValueError\u001b[0m: a must be greater than 0 unless no samples are taken"
     ]
    }
   ],
   "source": [
    "train_label_balanced=balanced_sample(train_label,200)\n",
    "val_label_balanced=balanced_sample(val_label,80)"
   ]
  },
  {
   "cell_type": "code",
   "execution_count": 65,
   "metadata": {},
   "outputs": [],
   "source": [
    "train_label_balanced.to_csv('train_label_balanced.csv',index=False)\n",
    "val_label_balanced.to_csv('val_label_balanced.csv',index=False)"
   ]
  },
  {
   "cell_type": "code",
   "execution_count": null,
   "metadata": {},
   "outputs": [],
   "source": []
  }
 ],
 "metadata": {
  "kernelspec": {
   "display_name": "tf",
   "language": "python",
   "name": "python3"
  },
  "language_info": {
   "codemirror_mode": {
    "name": "ipython",
    "version": 3
   },
   "file_extension": ".py",
   "mimetype": "text/x-python",
   "name": "python",
   "nbconvert_exporter": "python",
   "pygments_lexer": "ipython3",
   "version": "3.9.16"
  }
 },
 "nbformat": 4,
 "nbformat_minor": 2
}
